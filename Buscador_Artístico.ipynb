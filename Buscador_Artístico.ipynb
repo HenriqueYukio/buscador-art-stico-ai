{
  "nbformat": 4,
  "nbformat_minor": 0,
  "metadata": {
    "colab": {
      "provenance": []
    },
    "kernelspec": {
      "name": "python3",
      "display_name": "Python 3"
    },
    "language_info": {
      "name": "python"
    }
  },
  "cells": [
    {
      "cell_type": "code",
      "execution_count": 38,
      "metadata": {
        "id": "92YICyDg-rM2"
      },
      "outputs": [],
      "source": [
        "%pip -q install google-genai"
      ]
    },
    {
      "cell_type": "code",
      "source": [
        "# Configura a API Key do Google Gemini\n",
        "\n",
        "import os\n",
        "from google.colab import userdata\n",
        "\n",
        "os.environ[\"GOOGLE_API_KEY\"] = userdata.get('GOOGLE_API_KEY_2')"
      ],
      "metadata": {
        "id": "UWICIsO2_sKb"
      },
      "execution_count": 37,
      "outputs": []
    },
    {
      "cell_type": "code",
      "source": [
        "# Configura o cliente da SDK do Gemini\n",
        "\n",
        "from google import genai\n",
        "\n",
        "client = genai.Client()\n",
        "\n",
        "MODEL_ID = \"gemini-2.0-flash\""
      ],
      "metadata": {
        "id": "5dlvIXzJ_znY"
      },
      "execution_count": 39,
      "outputs": []
    },
    {
      "cell_type": "code",
      "source": [
        "# Instalar Framework ADK de agentes do Google ################################################\n",
        "!pip install -q google-adk"
      ],
      "metadata": {
        "id": "hk6cwugdAn9M"
      },
      "execution_count": 40,
      "outputs": []
    },
    {
      "cell_type": "code",
      "source": [
        "from google.adk.agents import Agent\n",
        "from google.adk.runners import Runner\n",
        "from google.adk.sessions import InMemorySessionService\n",
        "from google.adk.tools import google_search\n",
        "from google.genai import types  # Para criar conteúdos (Content e Part)\n",
        "from datetime import date\n",
        "import textwrap # Para formatar melhor a saída de texto\n",
        "from IPython.display import display, Markdown # Para exibir texto formatado no Colab\n",
        "import requests # Para fazer requisições HTTP\n",
        "import warnings\n",
        "\n",
        "warnings.filterwarnings(\"ignore\")"
      ],
      "metadata": {
        "id": "4dY226ypAwCv"
      },
      "execution_count": 125,
      "outputs": []
    },
    {
      "cell_type": "code",
      "source": [
        "# Função auxiliar que envia uma mensagem para um agente via Runner e retorna a resposta final\n",
        "def call_agent(agent: Agent, message_text: str) -> str:\n",
        "    # Cria um serviço de sessão em memória\n",
        "    session_service = InMemorySessionService()\n",
        "    # Cria uma nova sessão (você pode personalizar os IDs conforme necessário)\n",
        "    session = session_service.create_session(app_name=agent.name, user_id=\"user1\", session_id=\"session1\")\n",
        "    # Cria um Runner para o agente\n",
        "    runner = Runner(agent=agent, app_name=agent.name, session_service=session_service)\n",
        "    # Cria o conteúdo da mensagem de entrada\n",
        "    content = types.Content(role=\"user\", parts=[types.Part(text=message_text)])\n",
        "\n",
        "    final_response = \"\"\n",
        "    # Itera assincronamente pelos eventos retornados durante a execução do agente\n",
        "    for event in runner.run(user_id=\"user1\", session_id=\"session1\", new_message=content):\n",
        "        if event.is_final_response():\n",
        "          for part in event.content.parts:\n",
        "            if part.text is not None:\n",
        "              final_response += part.text\n",
        "              final_response += \"\\n\"\n",
        "    return final_response"
      ],
      "metadata": {
        "id": "fH_qRhWlA7AT"
      },
      "execution_count": 42,
      "outputs": []
    },
    {
      "cell_type": "code",
      "source": [
        "# Função auxiliar para exibir texto formatado em Markdown no Colab\n",
        "def to_markdown(text):\n",
        "\n",
        "  if text is None:\n",
        "    return Markdown(\"No content to display.\") # Or handle as appropriate\n",
        "  text = text.replace('•', '  *')\n",
        "  return Markdown(textwrap.indent(text, '> ', predicate=lambda _: True))"
      ],
      "metadata": {
        "id": "f6z0YlPwA_Wx"
      },
      "execution_count": 43,
      "outputs": []
    },
    {
      "cell_type": "code",
      "source": [
        "##########################################\n",
        "# --- Agente 1: Buscador de Referências --- #\n",
        "##########################################\n",
        "def agente_buscador(topico, data_de_hoje):\n",
        "\n",
        "  buscador= Agent(\n",
        "      name=\"agente_buscador\",\n",
        "      model=\"gemini-2.0-flash\",\n",
        "      instruction=\"\"\"\n",
        "      Você é um analista de artes, com um grande conhecimento sobre diversas mídias, como arquitetura, escultura, pintura, música,\n",
        "      literatura, dança, cinema, televisão, HQs, entre outros. A sua tarefa é usar a ferramenta de busca do Google (google_search) para identificar\n",
        "      com base no nome de obras enviadas no tópico, as diferentes influências dos movimentos artísticos e obras que serviram de referência para a obra mencionada.\n",
        "      \"\"\",\n",
        "      description=\"Agente que busca informações no Google\",\n",
        "      tools=[google_search]\n",
        "\n",
        "  )\n",
        "\n",
        "  entrada_do_agente_buscador = f\"Tópico: {topico}\\nData de hoje: {data_de_hoje}\"\n",
        "\n",
        "  referencias = call_agent(buscador, entrada_do_agente_buscador)\n",
        "  return referencias"
      ],
      "metadata": {
        "id": "_T7qDw2q6qRQ"
      },
      "execution_count": 148,
      "outputs": []
    },
    {
      "cell_type": "code",
      "source": [
        "################################################\n",
        "# --- Agente 2: Explicador --- #\n",
        "################################################\n",
        "def agente_explicador(topico, referencias_buscadas):\n",
        "    explicador = Agent(\n",
        "        name=\"agente_explicador\",\n",
        "        model=\"gemini-2.0-flash\",\n",
        "        # Inserir as instruções do Agente Explicador #################################################\n",
        "        instruction=\"\"\"\n",
        "        Você é um historiador de todas as artes. Com base na lista de obras e movimentos relevantes buscados pelo agente buscador, você deve:\n",
        "        usar a ferramenta de buscas do Google (google_search) para criar uma explicação sucinta, mas completa sobre cada uma delas, foque principalmente\n",
        "        na parte dos movimentos artísticos, se possível evite obras do mesmo artista.\n",
        "        Caso não seja possível, busque mais movimentos artísticos que influenciaram.\n",
        "        \"\"\",\n",
        "        description=\"Agente que explica as referências\",\n",
        "        tools=[google_search]\n",
        "    )\n",
        "\n",
        "    entrada_do_agente_explicador = f\"Tópico:{topico}\\nReferências buscadas: {referencias_buscadas}\"\n",
        "    # Executa o agente\n",
        "    explicacao = call_agent(explicador, entrada_do_agente_explicador)\n",
        "    return explicacao"
      ],
      "metadata": {
        "id": "IJ3KgLMTYuJA"
      },
      "execution_count": 151,
      "outputs": []
    },
    {
      "cell_type": "code",
      "source": [
        "######################################\n",
        "# --- Agente 3: Indicador --- #\n",
        "######################################\n",
        "def agente_indicador(topico, indicação):\n",
        "    indicador = Agent(\n",
        "        name=\"agente_indicador\",\n",
        "        model=\"gemini-2.0-flash\",\n",
        "        instruction=\"\"\"\n",
        "            Você é um grande acadêmico das artes, com um incrível repertório.\n",
        "            Seu trabalho é indicar até 5 das mais relevantes obras pertencentes aos movimentos mencionados\n",
        "            anteriormente.\n",
        "            \"\"\",\n",
        "        description=\"Agente indicador de obras que podem agregar no conhecimento\"\n",
        "    )\n",
        "    entrada_do_agente_indicador = f\"Tópico: {topico}\\nPlano de post: {indicação}\"\n",
        "    # Executa o agente\n",
        "    rascunho = call_agent(indicador, entrada_do_agente_indicador)\n",
        "    return rascunho"
      ],
      "metadata": {
        "id": "DhPqDqlKK6mw"
      },
      "execution_count": 138,
      "outputs": []
    },
    {
      "cell_type": "code",
      "source": [
        "from datetime import date\n",
        "# from IPython.display import display, Markdown # Supondo que você esteja usando Jupyter/Colab\n",
        "# from your_module import agente_buscador # Supondo que agente_buscador esteja em um módulo chamado your_module\n",
        "# from your_module import chat_2 # Supondo que chat_2 esteja em um módulo chamado your_module\n",
        "\n",
        "data_de_hoje = date.today().strftime(\"%d/%m/%Y\")\n",
        "\n",
        "print(\"Iniciando o sistema de busca de referências artísticas\")\n",
        "\n",
        "while True:\n",
        "    # --- Obter o Tópico do Usuário ---\n",
        "    topico = input(\"❓ Por favor, digite o nome da obra que deseja analisar (ou digite 'fim' para sair): \")\n",
        "\n",
        "    if topico.lower() == \"fim\":\n",
        "        print(\"Encerrando o sistema. Até a próxima!\")\n",
        "        break\n",
        "\n",
        "    # Inserir lógica do sistema de agentes ################################################\n",
        "    if not topico:\n",
        "        print(\"Você esqueceu de digitar o tópico!\")\n",
        "    else:\n",
        "        print(f\"Maravilha! Vamos então buscar as referências de {topico}\")\n",
        "\n",
        "        referencias = agente_buscador(topico, data_de_hoje)\n",
        "        print(\"\\n--- Resultado do Agente 1 (Buscador) ---\\n\")\n",
        "        display(to_markdown(referencias))\n",
        "        print(\"----------------------------------------------------------------\")\n",
        "\n",
        "        indicação = agente_explicador(topico, referencias)\n",
        "        print(\"\\n--- Resultado do Agente 2 (explicador) ---\\n\")\n",
        "        display(to_markdown(indicação))\n",
        "        print(\"----------------------------------------------------------------\")\n",
        "\n",
        "        rascunho_de_post = agente_indicador(topico, indicação)\n",
        "        print(\"\\n--- Resultado do Agente 3 (indicador) ---\\n\")\n",
        "        display(to_markdown(rascunho_de_post))\n",
        "        print(\"----------------------------------------------------------------\")\n",
        "\n",
        "print(\"Fim da execução.\")"
      ],
      "metadata": {
        "id": "QfhgF-TtBekX"
      },
      "execution_count": null,
      "outputs": []
    }
  ]
}